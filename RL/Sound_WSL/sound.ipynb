{
 "cells": [
  {
   "cell_type": "code",
   "execution_count": 5,
   "metadata": {},
   "outputs": [
    {
     "name": "stderr",
     "output_type": "stream",
     "text": [
      "/bin/sh: 1: \\wsl.localhostUbuntu-22.04homeblechardoyCranfieldPythonDeep_learningRL_LaboratoryRL_Laboratorysound_writer.py: not found\n"
     ]
    },
    {
     "data": {
      "text/plain": [
       "CompletedProcess(args='\\\\\\\\wsl.localhost\\\\Ubuntu-22.04\\\\home\\\\blechardoy\\\\Cranfield\\\\Python\\\\Deep_learning\\\\RL_Laboratory\\\\RL_Laboratory\\\\sound_writer.py', returncode=127)"
      ]
     },
     "execution_count": 5,
     "metadata": {},
     "output_type": "execute_result"
    }
   ],
   "source": [
    "import subprocess\n",
    "\n",
    "# Define the command you want to execute\n",
    "command_to_run = \"\\\\\\\\wsl.localhost\\\\Ubuntu-22.04\\\\home\\\\blechardoy\\\\Cranfield\\\\Python\\\\Deep_learning\\\\RL_Laboratory\\\\RL_Laboratory\\\\sound_writer.py\"\n",
    "\n",
    "\n",
    "\n",
    "# Use subprocess to run the command in the Windows Command Prompt\n",
    "subprocess.run(command_to_run, shell=True)\n"
   ]
  }
 ],
 "metadata": {
  "kernelspec": {
   "display_name": "Python 3",
   "language": "python",
   "name": "python3"
  },
  "language_info": {
   "codemirror_mode": {
    "name": "ipython",
    "version": 3
   },
   "file_extension": ".py",
   "mimetype": "text/x-python",
   "name": "python",
   "nbconvert_exporter": "python",
   "pygments_lexer": "ipython3",
   "version": "3.10.12"
  }
 },
 "nbformat": 4,
 "nbformat_minor": 2
}
